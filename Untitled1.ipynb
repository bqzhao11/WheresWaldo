{
 "cells": [
  {
   "cell_type": "code",
   "execution_count": 1,
   "metadata": {},
   "outputs": [],
   "source": [
    "import cv2\n",
    "import numpy as np"
   ]
  },
  {
   "cell_type": "code",
   "execution_count": 6,
   "metadata": {},
   "outputs": [
    {
     "name": "stdout",
     "output_type": "stream",
     "text": [
      "ScaledImages/reshaped1.jpg\n",
      "ScaledImages/reshaped2.jpg\n",
      "ScaledImages/reshaped3.jpg\n",
      "ScaledImages/reshaped4.jpg\n",
      "ScaledImages/reshaped5.jpg\n",
      "ScaledImages/reshaped6.jpg\n",
      "ScaledImages/reshaped7.jpg\n",
      "ScaledImages/reshaped8.jpg\n",
      "ScaledImages/reshaped9.jpg\n",
      "ScaledImages/reshaped10.jpg\n",
      "ScaledImages/reshaped11.jpg\n",
      "ScaledImages/reshaped12.jpg\n",
      "ScaledImages/reshaped13.jpg\n",
      "ScaledImages/reshaped14.jpg\n",
      "ScaledImages/reshaped15.jpg\n",
      "ScaledImages/reshaped16.jpg\n",
      "ScaledImages/reshaped17.jpg\n",
      "ScaledImages/reshaped18.jpg\n",
      "ScaledImages/reshaped19.jpg\n"
     ]
    }
   ],
   "source": [
    "fromfolder = 'Unlabeled/'\n",
    "tofolder = 'ScaledImages/'\n",
    "numImages = 19\n",
    "for i in range(1, numImages + 1):\n",
    "    image = cv2.imread(fromfolder + str(i) + '.jpg')\n",
    "    reshaped = cv2.resize(image, (1280, 800))\n",
    "    cv2.imwrite('reshaped' + str(i) + '.jpg', reshaped)\n",
    "    print(tofolder + 'reshaped' + str(i) + '.jpg')"
   ]
  },
  {
   "cell_type": "code",
   "execution_count": null,
   "metadata": {},
   "outputs": [],
   "source": []
  }
 ],
 "metadata": {
  "kernelspec": {
   "display_name": "Python 3",
   "language": "python",
   "name": "python3"
  },
  "language_info": {
   "codemirror_mode": {
    "name": "ipython",
    "version": 3
   },
   "file_extension": ".py",
   "mimetype": "text/x-python",
   "name": "python",
   "nbconvert_exporter": "python",
   "pygments_lexer": "ipython3",
   "version": "3.7.3"
  }
 },
 "nbformat": 4,
 "nbformat_minor": 2
}
